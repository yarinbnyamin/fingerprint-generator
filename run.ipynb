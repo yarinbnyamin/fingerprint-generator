{
 "cells": [
  {
   "cell_type": "code",
   "execution_count": null,
   "id": "568abecd-1ec7-49f8-87c1-91abd4fa228c",
   "metadata": {},
   "outputs": [],
   "source": [
    "# Load the virtual environment\n",
    "!source activate oai"
   ]
  },
  {
   "cell_type": "code",
   "execution_count": null,
   "id": "5d91a191",
   "metadata": {},
   "outputs": [],
   "source": [
    "# pip install all the required packages\n",
    "!pip install torch torchvision torchaudio --index-url https://download.pytorch.org/whl/cu118\n",
    "!pip install tqdm\n",
    "!pip install PyYAML\n",
    "!python environment/yml2pip.py"
   ]
  },
  {
   "cell_type": "code",
   "execution_count": null,
   "id": "6152e6ef-6af2-495f-a3c4-f68ddd842ddc",
   "metadata": {},
   "outputs": [],
   "source": [
    "# The original NIST14 dataset is not longare avalible so we used Sokoto dataset\n",
    "!python unzip.py\n",
    "!python change_paths.py"
   ]
  },
  {
   "cell_type": "code",
   "execution_count": null,
   "id": "6fe70967",
   "metadata": {},
   "outputs": [],
   "source": [
    "# Train the initial model (stylegan_weights)\n",
    "!python training.py --exp_dir=output --is_gray"
   ]
  },
  {
   "cell_type": "code",
   "execution_count": null,
   "id": "896c8f7a",
   "metadata": {},
   "outputs": [],
   "source": [
    "# Generate examples\n",
    "!python inference.py --exp_dir=mnt1 --is_gray\n",
    "!python inference.py --exp_dir=mnt2 --is_gray"
   ]
  },
  {
   "cell_type": "code",
   "execution_count": null,
   "id": "7b2e042f",
   "metadata": {},
   "outputs": [],
   "source": [
    "# Download rest of the model weights\n",
    "!mkdir pretrained_models && cd pretrained_models\n",
    "# fingernet\n",
    "!wget -O Model.model https://raw.githubusercontent.com/alkarnjn/FingerNet/master/models/released_version/Model.model\n",
    "# encoder_pretrained\n",
    "!wget -O best_model.pt https://www.dropbox.com/scl/fi/ji4ca9js46oqdh023g8ck/best_model.pt?rlkey=7lnvs5nbuzgyzy4xme4odkp6g&e=1&dl=0"
   ]
  },
  {
   "cell_type": "code",
   "execution_count": null,
   "id": "a7b7c4f4-7309-4279-80d0-24e04e809492",
   "metadata": {},
   "outputs": [],
   "source": [
    "# Train the mnt model\n",
    "!python 2nd_train.py"
   ]
  }
 ],
 "metadata": {
  "kernelspec": {
   "display_name": "Python 3 (ipykernel)",
   "language": "python",
   "name": "python3"
  },
  "language_info": {
   "codemirror_mode": {
    "name": "ipython",
    "version": 3
   },
   "file_extension": ".py",
   "mimetype": "text/x-python",
   "name": "python",
   "nbconvert_exporter": "python",
   "pygments_lexer": "ipython3",
   "version": "3.12.7"
  }
 },
 "nbformat": 4,
 "nbformat_minor": 5
}
